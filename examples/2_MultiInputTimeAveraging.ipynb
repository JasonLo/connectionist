{
 "cells": [
  {
   "cell_type": "code",
   "execution_count": 1,
   "metadata": {},
   "outputs": [
    {
     "name": "stderr",
     "output_type": "stream",
     "text": [
      "/usr/lib/python3/dist-packages/requests/__init__.py:89: RequestsDependencyWarning: urllib3 (1.26.13) or chardet (3.0.4) doesn't match a supported version!\n",
      "  warnings.warn(\"urllib3 ({}) or chardet ({}) doesn't match a supported \"\n"
     ]
    },
    {
     "name": "stdout",
     "output_type": "stream",
     "text": [
      "Time-averaging mechanism for multiple inputs.\n",
      "\n",
      "    In short, time-averaging mechanism simulates continuous-temporal dynamics in a discrete-time recurrent neural networks.\n",
      "    See Plaut, McClelland, Seidenberg, and Patterson (1996) equation (15) for more details.\n",
      "\n",
      "    This layer is designed for multiple inputs, assuming they had ALREADY been multiplied by weights i.e., a list of (x @ w).\n",
      "\n",
      "    Args:\n",
      "        tau (float): Time-averaging parameter (How much information should take from the new input). range: [0, 1].\n",
      "\n",
      "        average_at (str): Where to average. Options: 'before_activation', 'after_activation'.\n",
      "\n",
      "            When average_at is 'before_activation', the time-averaging is applied BEFORE activation. i.e., time-averaging INPUT.:\n",
      "                outputs = activation(integrated_input);\n",
      "                integrated input = tau * (sum(inputs) + bias) + (1-tau) * last_inputs;\n",
      "                last_inputs is obtained from the last call of this layer, its values stored at `self.states`\n",
      "\n",
      "            When average_at is 'after_activation', the time-averaging is applied AFTER activation. i.e., time-averaging OUTPUT.:\n",
      "                outputs = tau * activation(sum(inputs) + bias) + (1-tau) * last_outputs;\n",
      "                last_outputs is obtained from the last call of this layer, its values stored at `self.states`\n",
      "\n",
      "        activation (str, optional): Activation function to use. Defaults to None.\n",
      "\n",
      "        use_bias (bool, optional): Whether the layer uses a bias vector. Defaults to True.\n",
      "\n",
      "        bias_initializer (optional): Initializer for the bias vector. Defaults to 'zeros'.\n",
      "\n",
      "        bias_regularizer (optional): Regularizer function applied to the bias vector. Defaults to None.\n",
      "\n",
      "        bias_constraint (optional): Constraint function applied to the bias vector. Defaults to None.\n",
      "\n",
      "    \n"
     ]
    }
   ],
   "source": [
    "import tensorflow as tf\n",
    "from connectionist.layers import MultiInputTimeAveraging\n",
    "\n",
    "print(MultiInputTimeAveraging.__doc__)"
   ]
  },
  {
   "attachments": {},
   "cell_type": "markdown",
   "metadata": {},
   "source": [
    "## Toy example\n",
    "\n",
    "This example illustrate the forward pass of a model bullt with the multi-input time-averaging model.\n",
    "\n",
    "$$y_t = \\tau \\times sigmoid(x_1 @ w_1 + x_2 @ w_2 + b) + (1-\\tau) y_{t-1}  $$"
   ]
  },
  {
   "cell_type": "code",
   "execution_count": 2,
   "metadata": {},
   "outputs": [],
   "source": [
    "class ToyModel(tf.keras.layers.Layer):\n",
    "\n",
    "    def __init__(self, units):\n",
    "        super().__init__()\n",
    "        self.units = units\n",
    "\n",
    "    def build(self, input_shape):\n",
    "        self.dense_1 = tf.keras.layers.Dense(units=self.units, use_bias=False)\n",
    "        self.dense_2 = tf.keras.layers.Dense(units=self.units, use_bias=False)\n",
    "        self.mita = MultiInputTimeAveraging(tau=0.2, average_at=\"after_activation\", activation=\"sigmoid\")\n",
    "        self.built = True\n",
    "\n",
    "    def call(self, inputs):\n",
    "        x1, x2 = inputs\n",
    "        y1 = self.dense_1(x1)\n",
    "        y2 = self.dense_2(x2)\n",
    "        y = self.mita([y1, y2])\n",
    "        return y\n",
    "\n",
    "model = ToyModel(units=3)\n"
   ]
  },
  {
   "attachments": {},
   "cell_type": "markdown",
   "metadata": {},
   "source": [
    "First call, since tau = 0.2, output values $y_1 = 0.2 \\times sigmoid(x_1 @ w_1 + x_2 @ w_2 + b)$"
   ]
  },
  {
   "cell_type": "code",
   "execution_count": 5,
   "metadata": {},
   "outputs": [
    {
     "data": {
      "text/plain": [
       "<tf.Tensor: shape=(1, 3), dtype=float32, numpy=array([[0.48508698, 0.01522337, 0.43136233]], dtype=float32)>"
      ]
     },
     "execution_count": 5,
     "metadata": {},
     "output_type": "execute_result"
    }
   ],
   "source": [
    "y1 = model([tf.constant([[1, 2, 3, 4]]), tf.constant([[1, 2, 3, 4, 5]])])\n",
    "y1"
   ]
  },
  {
   "attachments": {},
   "cell_type": "markdown",
   "metadata": {},
   "source": [
    "Second call, output ramping up, output value $y_2 = 0.2 \\times sigmoid(x_1 @ w_1 + x_2 @ w_2 + b) + 0.8 y_1$."
   ]
  },
  {
   "cell_type": "code",
   "execution_count": 4,
   "metadata": {},
   "outputs": [
    {
     "data": {
      "text/plain": [
       "<tf.Tensor: shape=(1, 3), dtype=float32, numpy=array([[0.35785103, 0.01123036, 0.3182181 ]], dtype=float32)>"
      ]
     },
     "execution_count": 4,
     "metadata": {},
     "output_type": "execute_result"
    }
   ],
   "source": [
    "y2 = model([tf.constant([[1, 2, 3, 4]]), tf.constant([[1, 2, 3, 4, 5]])])"
   ]
  }
 ],
 "metadata": {
  "kernelspec": {
   "display_name": "Python 3",
   "language": "python",
   "name": "python3"
  },
  "language_info": {
   "codemirror_mode": {
    "name": "ipython",
    "version": 3
   },
   "file_extension": ".py",
   "mimetype": "text/x-python",
   "name": "python",
   "nbconvert_exporter": "python",
   "pygments_lexer": "ipython3",
   "version": "3.8.10"
  },
  "orig_nbformat": 4,
  "vscode": {
   "interpreter": {
    "hash": "916dbcbb3f70747c44a77c7bcd40155683ae19c65e1c03b4aa3499c5328201f1"
   }
  }
 },
 "nbformat": 4,
 "nbformat_minor": 2
}
